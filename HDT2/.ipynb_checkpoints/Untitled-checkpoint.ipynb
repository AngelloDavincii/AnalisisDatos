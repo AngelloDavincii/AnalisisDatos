{
 "cells": [
  {
   "cell_type": "code",
   "execution_count": 7,
   "metadata": {},
   "outputs": [],
   "source": [
    "from pylab import * #importar la libreria\n",
    "from numpy import exp\n",
    "import pandas as pd\n",
    "import math\n",
    "from tabulate import tabulate\n",
    "\n",
    "def f(x):\n",
    "    return exp(-x) - x\n",
    "\n",
    "def bisec (f, a, b, t = 0.05):\n",
    "    xl, xr, xu = a, b, b\n",
    "    ea = 100\n",
    "    datos = {\"XL\": [],\"XR\": [], \"XU\": [], \"E\": []}\n",
    "\n",
    "    while ea > t:\n",
    "        xrold = xr\n",
    "        xr = (xl + xu)/2\n",
    "        if (f(xl) * f(xr) < 0):\n",
    "            xu = xr\n",
    "\n",
    "        elif (f(xr) * f(xu)<0):\n",
    "            xl = xr\n",
    "\n",
    "        else:\n",
    "            return xr\n",
    "\n",
    "        ea = abs((xr-xrold)/xr)*100\n",
    "        datos[\"XL\"].append(xl)\n",
    "        datos[\"XR\"].append(xr)\n",
    "        datos[\"XU\"].append(xu)\n",
    "        datos[\"E\"].append(ea)\n",
    "        \n",
    "    return datos\n",
    "\n"
   ]
  },
  {
   "cell_type": "code",
   "execution_count": 3,
   "metadata": {},
   "outputs": [
    {
     "name": "stdout",
     "output_type": "stream",
     "text": [
      "Collecting tabulate\n",
      "  Using cached https://files.pythonhosted.org/packages/c4/41/523f6a05e6dc3329a5660f6a81254c6cd87e5cfb5b7482bae3391d86ec3a/tabulate-0.8.6.tar.gz\n",
      "Building wheels for collected packages: tabulate\n",
      "  Building wheel for tabulate (setup.py): started\n",
      "  Building wheel for tabulate (setup.py): finished with status 'done'\n",
      "  Created wheel for tabulate: filename=tabulate-0.8.6-cp37-none-any.whl size=23279 sha256=95965cc11443e938830511ed526e44bf72ef3c72fecbdf81cbedd8339912f9b7\n",
      "  Stored in directory: C:\\Users\\usuario\\AppData\\Local\\pip\\Cache\\wheels\\9c\\9b\\f4\\eb243fdb89676ec00588e8c54bb54360724c06e7fafe95278e\n",
      "Successfully built tabulate\n",
      "Installing collected packages: tabulate\n",
      "Successfully installed tabulate-0.8.6\n",
      "Note: you may need to restart the kernel to use updated packages.\n"
     ]
    }
   ],
   "source": []
  },
  {
   "cell_type": "code",
   "execution_count": 4,
   "metadata": {},
   "outputs": [],
   "source": []
  },
  {
   "cell_type": "code",
   "execution_count": 5,
   "metadata": {},
   "outputs": [],
   "source": []
  },
  {
   "cell_type": "code",
   "execution_count": 6,
   "metadata": {},
   "outputs": [
    {
     "name": "stdout",
     "output_type": "stream",
     "text": [
      "--------  --------  --------  -----------\n",
      "0.5       0.5       1         100\n",
      "0.5       0.75      0.75       33.3333\n",
      "0.5       0.625     0.625      20\n",
      "0.5625    0.5625    0.625      11.1111\n",
      "0.5625    0.59375   0.59375     5.26316\n",
      "0.5625    0.578125  0.578125    2.7027\n",
      "0.5625    0.570312  0.570312    1.36986\n",
      "0.566406  0.566406  0.570312    0.689655\n",
      "0.566406  0.568359  0.568359    0.343643\n",
      "0.566406  0.567383  0.567383    0.172117\n",
      "0.566895  0.566895  0.567383    0.0861326\n",
      "0.567139  0.567139  0.567383    0.0430478\n",
      "--------  --------  --------  -----------\n"
     ]
    }
   ],
   "source": []
  },
  {
   "cell_type": "code",
   "execution_count": 8,
   "metadata": {},
   "outputs": [
    {
     "name": "stdout",
     "output_type": "stream",
     "text": [
      "          XL        XR        XU           E\n",
      "0   0.500000  0.500000  1.000000  100.000000\n",
      "1   0.500000  0.750000  0.750000   33.333333\n",
      "2   0.500000  0.625000  0.625000   20.000000\n",
      "3   0.562500  0.562500  0.625000   11.111111\n",
      "4   0.562500  0.593750  0.593750    5.263158\n",
      "5   0.562500  0.578125  0.578125    2.702703\n",
      "6   0.562500  0.570312  0.570312    1.369863\n",
      "7   0.566406  0.566406  0.570312    0.689655\n",
      "8   0.566406  0.568359  0.568359    0.343643\n",
      "9   0.566406  0.567383  0.567383    0.172117\n",
      "10  0.566895  0.566895  0.567383    0.086133\n",
      "11  0.567139  0.567139  0.567383    0.043048\n",
      "\n",
      "\n",
      "\n",
      "\n",
      "\n",
      "+----+----------+----------+----------+-------------+\n",
      "|    |       XL |       XR |       XU |           E |\n",
      "+====+==========+==========+==========+=============+\n",
      "|  0 | 0.5      | 0.5      | 1        | 100         |\n",
      "+----+----------+----------+----------+-------------+\n",
      "|  1 | 0.5      | 0.75     | 0.75     |  33.3333    |\n",
      "+----+----------+----------+----------+-------------+\n",
      "|  2 | 0.5      | 0.625    | 0.625    |  20         |\n",
      "+----+----------+----------+----------+-------------+\n",
      "|  3 | 0.5625   | 0.5625   | 0.625    |  11.1111    |\n",
      "+----+----------+----------+----------+-------------+\n",
      "|  4 | 0.5625   | 0.59375  | 0.59375  |   5.26316   |\n",
      "+----+----------+----------+----------+-------------+\n",
      "|  5 | 0.5625   | 0.578125 | 0.578125 |   2.7027    |\n",
      "+----+----------+----------+----------+-------------+\n",
      "|  6 | 0.5625   | 0.570312 | 0.570312 |   1.36986   |\n",
      "+----+----------+----------+----------+-------------+\n",
      "|  7 | 0.566406 | 0.566406 | 0.570312 |   0.689655  |\n",
      "+----+----------+----------+----------+-------------+\n",
      "|  8 | 0.566406 | 0.568359 | 0.568359 |   0.343643  |\n",
      "+----+----------+----------+----------+-------------+\n",
      "|  9 | 0.566406 | 0.567383 | 0.567383 |   0.172117  |\n",
      "+----+----------+----------+----------+-------------+\n",
      "| 10 | 0.566895 | 0.566895 | 0.567383 |   0.0861326 |\n",
      "+----+----------+----------+----------+-------------+\n",
      "| 11 | 0.567139 | 0.567139 | 0.567383 |   0.0430478 |\n",
      "+----+----------+----------+----------+-------------+\n"
     ]
    }
   ],
   "source": [
    "re = bisec (f, 0, 1)\n",
    "df= pd.DataFrame(re)\n",
    "headers = [\"XL\", \"XR\", \"XU\", \"E\"]\n",
    "print (df)\n",
    "print (\"\\n\"*4)\n",
    "\n",
    "print (tabulate(df, headers = headers, tablefmt = \"grid\"))"
   ]
  },
  {
   "cell_type": "code",
   "execution_count": 15,
   "metadata": {},
   "outputs": [
    {
     "name": "stdout",
     "output_type": "stream",
     "text": [
      "<function f at 0x000002C435C30CA8>\n"
     ]
    }
   ],
   "source": [
    "from sympy import *\n",
    "x = symbols(\"x\")\n",
    "\n",
    "def f(x):\n",
    "    x = symbols(\"x\")\n",
    "    a = diff(exp(-x)-x,x)\n",
    "    print (a)\n",
    "    return diff(exp(-x)-x,x)\n",
    "\n",
    "\n",
    "print (f)\n",
    "\n"
   ]
  },
  {
   "cell_type": "code",
   "execution_count": null,
   "metadata": {},
   "outputs": [],
   "source": []
  }
 ],
 "metadata": {
  "kernelspec": {
   "display_name": "Python 3",
   "language": "python",
   "name": "python3"
  },
  "language_info": {
   "codemirror_mode": {
    "name": "ipython",
    "version": 3
   },
   "file_extension": ".py",
   "mimetype": "text/x-python",
   "name": "python",
   "nbconvert_exporter": "python",
   "pygments_lexer": "ipython3",
   "version": "3.7.4"
  }
 },
 "nbformat": 4,
 "nbformat_minor": 2
}
