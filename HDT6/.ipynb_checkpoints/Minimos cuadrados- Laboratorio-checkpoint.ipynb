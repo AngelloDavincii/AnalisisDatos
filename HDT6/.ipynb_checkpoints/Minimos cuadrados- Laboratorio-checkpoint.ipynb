{
 "cells": [
  {
   "cell_type": "code",
   "execution_count": 2,
   "metadata": {},
   "outputs": [],
   "source": [
    "import pandas as pd\n",
    "from pylab import *\n",
    "import numpy as np\n",
    "from scipy.optimize import leastsq\n",
    "from scipy import random\n"
   ]
  },
  {
   "cell_type": "markdown",
   "metadata": {},
   "source": [
    "# MINIMOS CUADRADOS"
   ]
  },
  {
   "cell_type": "markdown",
   "metadata": {},
   "source": [
    "La siguiente línea de código se utiliza para leer un archivo con extensión csv. Para que le funcione, usted deberá colocar la dirección donde se encuentra ubicado su archivo. Tenga mucho cuidado, ya que la dirección se tiene que escribir con \"$/$\"."
   ]
  },
  {
   "cell_type": "code",
   "execution_count": 6,
   "metadata": {},
   "outputs": [],
   "source": [
    "data = pd.read_csv(\"C:/Users/AristondoLima/Desktop/data.csv\", delimiter = \";\")"
   ]
  },
  {
   "cell_type": "code",
   "execution_count": 8,
   "metadata": {},
   "outputs": [
    {
     "data": {
      "text/plain": [
       "0     9.000000\n",
       "1     8.048374\n",
       "2     7.187308\n",
       "3     7.408182\n",
       "4     5.703200\n",
       "5     6.065307\n",
       "6     6.488116\n",
       "7     4.965853\n",
       "8     4.493290\n",
       "9     5.065697\n",
       "10    2.678794\n",
       "11    2.328711\n",
       "12    4.011942\n",
       "Name: y, dtype: float64"
      ]
     },
     "execution_count": 8,
     "metadata": {},
     "output_type": "execute_result"
    }
   ],
   "source": [
    "data.y   #visualización de una columna del archivo importado"
   ]
  },
  {
   "cell_type": "code",
   "execution_count": 9,
   "metadata": {},
   "outputs": [
    {
     "data": {
      "text/plain": [
       "0     0.0\n",
       "1     0.2\n",
       "2     0.4\n",
       "3     0.6\n",
       "4     0.8\n",
       "5     1.0\n",
       "6     1.2\n",
       "7     1.4\n",
       "8     1.6\n",
       "9     1.8\n",
       "10    2.0\n",
       "11    2.2\n",
       "12    2.4\n",
       "Name: x, dtype: float64"
      ]
     },
     "execution_count": 9,
     "metadata": {},
     "output_type": "execute_result"
    }
   ],
   "source": [
    "data.x # visualización de la columna x del archivo importado"
   ]
  },
  {
   "cell_type": "code",
   "execution_count": 12,
   "metadata": {},
   "outputs": [
    {
     "name": "stdout",
     "output_type": "stream",
     "text": [
      "[ 8.94700514 -0.42384615]\n"
     ]
    },
    {
     "data": {
      "image/png": "[encoded data removed]",
      "text/plain": [
       "<Figure size 432x288 with 1 Axes>"
      ]
     },
     "metadata": {},
     "output_type": "display_data"
    }
   ],
   "source": [
    "# LISTAS CON LOS DATOS X  y Y\n",
    "datos_x = data.x\n",
    "datos_y = data.y\n",
    "\n",
    "# Ahora se trata de ajustar estos datos una función\n",
    "# modelo tipo exponencial  A*e**(B*x))\n",
    "\n",
    "# Defino la funcion de residuos\n",
    "def residuos(p, y, x):\n",
    "    A, B = p\n",
    "    error = y - A*exp(B*x)\n",
    "    return error\n",
    "\n",
    "# Parámetros iniciales\n",
    "\n",
    "# Si estos se alejan mucho del valor real\n",
    "# la solución no convergerá\n",
    "p0 = [2,1]\n",
    "\n",
    "# hacemos  el ajuste por minimos cuadrados\n",
    "ajuste = leastsq(residuos, p0, args=(datos_y, datos_x))\n",
    "\n",
    "# El resultado es una lista, cuyo primer elemento es otra\n",
    "# lista con los parámetros del ajuste.\n",
    "print(ajuste[0])\n",
    "\n",
    "\n",
    "# Ahora muestro los datos y el ajuste gráficamente\n",
    "\n",
    "plot(datos_x, datos_y, 'o')  # datos\n",
    "\n",
    "# Defino la funcion modelo, para representarla gráficamente\n",
    "def funcion(x, p):\n",
    "    return p[0]*e**(p[1]*x)\n",
    "\n",
    "# genero datos a partir del modelo para representarlo\n",
    "x1 = arange(0, datos_x.max(), 0.001)  # array con muchos puntos de x\n",
    "y1 = funcion(x1, ajuste[0])           # valor de la funcion modelo en los x\n",
    "\n",
    "plot(x1, y1, 'r-')\n",
    "xlabel('Eje X')\n",
    "ylabel('Eje Y')\n",
    "title('Ajuste de funcion exponencial con leastsq')\n",
    "legend(('Datos', 'Ajuste exponencial'))\n",
    "show()\n"
   ]
  },
  {
   "cell_type": "markdown",
   "metadata": {},
   "source": [
    "# EJERCICIO 1\n",
    "\n",
    "La base de datos 2 muestra resultados de una función \"f(x) = A*sin(Bx+C)\", encuentre los valores A, B y C que minimizan el error cuadrado."
   ]
  },
  {
   "cell_type": "markdown",
   "metadata": {},
   "source": [
    "## EJERCICIO 2\n",
    "Encontrar el modelo que mejor se ajuste a los casos de coronavirus en:\n",
    "\n",
    "- España\n",
    "- Italia\n",
    "- Estados Unidos\n",
    "- Guatemala\n",
    "\n"
   ]
  },
  {
   "cell_type": "code",
   "execution_count": null,
   "metadata": {},
   "outputs": [],
   "source": []
  }
 ],
 "metadata": {
  "kernelspec": {
   "display_name": "Python 3",
   "language": "python",
   "name": "python3"
  },
  "language_info": {
   "codemirror_mode": {
    "name": "ipython",
    "version": 3
   },
   "file_extension": ".py",
   "mimetype": "text/x-python",
   "name": "python",
   "nbconvert_exporter": "python",
   "pygments_lexer": "ipython3",
   "version": "3.7.4"
  }
 },
 "nbformat": 4,
 "nbformat_minor": 2
}
